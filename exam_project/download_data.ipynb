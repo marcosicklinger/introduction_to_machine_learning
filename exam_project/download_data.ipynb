{
 "cells": [
  {
   "cell_type": "code",
   "execution_count": 1,
   "metadata": {},
   "outputs": [],
   "source": [
    "from tweetload import downloadTweets\n",
    "import tweepy as tw\n",
    "from utilities import readNames"
   ]
  },
  {
   "cell_type": "code",
   "execution_count": 2,
   "metadata": {},
   "outputs": [],
   "source": [
    "consumer_key = \"nIXY7GkiTQV3VpfVzSL1XOAEw\"\n",
    "consumer_secret = \"7X0Ws7sphu1EsmQvP14dYeRgrhLzC19Vg2eXlGoyiXTywRzsiF\"\n",
    "access_token = \"1701692984-8qqOwQgtGaqyu787Cb9liyes55m7zAViZM0Lo0y\"\n",
    "access_token_secret = \"Hc13wsHZ7pmJWHGjVMyzBQgXJTwwJcXcRh1sHg9yWqyp5\"\n",
    "auth = tw.OAuthHandler(consumer_key, consumer_secret)\n",
    "auth.set_access_token(access_token, access_token_secret)\n",
    "api = tw.API(auth, wait_on_rate_limit=True)"
   ]
  },
  {
   "cell_type": "code",
   "execution_count": 3,
   "metadata": {},
   "outputs": [],
   "source": [
    "companies = readNames(\"food_brands\")"
   ]
  },
  {
   "cell_type": "code",
   "execution_count": 4,
   "metadata": {},
   "outputs": [
    {
     "name": "stdout",
     "output_type": "stream",
     "text": [
      "downloading...\n"
     ]
    },
    {
     "name": "stderr",
     "output_type": "stream",
     "text": [
      "Rate limit reached. Sleeping for: 164\n"
     ]
    },
    {
     "name": "stdout",
     "output_type": "stream",
     "text": [
      "\t user PepsiCo -- 3200 tweets downloaded\n",
      "\t\t we have 3200 tweets now...\n",
      "\t user ChesterCheetah -- 3200 tweets downloaded\n",
      "\t\t we have 6400 tweets now...\n",
      "\t user Doritos -- 3200 tweets downloaded\n",
      "\t\t we have 9600 tweets now...\n",
      "\t user Gatorade -- 3200 tweets downloaded\n",
      "\t\t we have 12800 tweets now...\n",
      "\t user LAYS -- 3200 tweets downloaded\n",
      "\t\t we have 16000 tweets now...\n"
     ]
    },
    {
     "name": "stderr",
     "output_type": "stream",
     "text": [
      "Rate limit reached. Sleeping for: 554\n"
     ]
    },
    {
     "name": "stdout",
     "output_type": "stream",
     "text": [
      "\t user MountainDew -- 3200 tweets downloaded\n",
      "\t\t we have 19200 tweets now...\n",
      "\t user pepsi -- 680 tweets downloaded\n",
      "\t\t we have 19880 tweets now...\n",
      "\t user Quaker -- 3200 tweets downloaded\n",
      "\t\t we have 23080 tweets now...\n",
      "\t user 7UP -- 3200 tweets downloaded\n",
      "\t\t we have 26280 tweets now...\n",
      "\t user Tropicana -- 3200 tweets downloaded\n",
      "\t\t we have 29480 tweets now...\n",
      "\t user BeyondMeat -- 3200 tweets downloaded\n",
      "\t\t we have 32680 tweets now...\n",
      "\t user DiGiorno -- 3200 tweets downloaded\n",
      "\t\t we have 35880 tweets now...\n"
     ]
    },
    {
     "name": "stderr",
     "output_type": "stream",
     "text": [
      "Rate limit reached. Sleeping for: 544\n"
     ]
    },
    {
     "name": "stdout",
     "output_type": "stream",
     "text": [
      "\t user CrackerBarrel -- 3200 tweets downloaded\n",
      "\t\t we have 39080 tweets now...\n",
      "\t user BACARDI -- 3200 tweets downloaded\n",
      "\t\t we have 42280 tweets now...\n",
      "\t user budlight -- 3200 tweets downloaded\n",
      "\t\t we have 45480 tweets now...\n",
      "\t user BuschBeer -- 3200 tweets downloaded\n",
      "\t\t we have 48680 tweets now...\n",
      "\t user MichelobULTRA -- 3200 tweets downloaded\n",
      "\t\t we have 51880 tweets now...\n"
     ]
    },
    {
     "name": "stderr",
     "output_type": "stream",
     "text": [
      "Rate limit reached. Sleeping for: 551\n"
     ]
    },
    {
     "name": "stdout",
     "output_type": "stream",
     "text": [
      "\t user BettyCrocker -- 3200 tweets downloaded\n",
      "\t\t we have 55080 tweets now...\n",
      "\t user MonsterEnergy -- 3200 tweets downloaded\n",
      "\t\t we have 58280 tweets now...\n",
      "\t user Pillsbury -- 3200 tweets downloaded\n",
      "\t\t we have 61480 tweets now...\n",
      "\t user totinos -- 3200 tweets downloaded\n",
      "\t\t we have 64680 tweets now...\n",
      "\t user mmschocolate -- 3200 tweets downloaded\n",
      "\t\t we have 67880 tweets now...\n",
      "\t user Skittles -- 3200 tweets downloaded\n",
      "\t\t we have 71080 tweets now...\n"
     ]
    },
    {
     "name": "stderr",
     "output_type": "stream",
     "text": [
      "Rate limit reached. Sleeping for: 559\n"
     ]
    },
    {
     "name": "stdout",
     "output_type": "stream",
     "text": [
      "\t user SNICKERS -- 1140 tweets downloaded\n",
      "\t\t we have 72220 tweets now...\n",
      "\t user Starburst -- 3200 tweets downloaded\n",
      "\t\t we have 75420 tweets now...\n",
      "\t user CocaCola -- 3200 tweets downloaded\n",
      "\t\t we have 78620 tweets now...\n",
      "\t user DietCoke -- 3200 tweets downloaded\n",
      "\t\t we have 81820 tweets now...\n",
      "\t user fanta -- 3200 tweets downloaded\n",
      "\t\t we have 85020 tweets now...\n",
      "\t user POWERADE -- 2937 tweets downloaded\n",
      "\t\t we have 87957 tweets now...\n"
     ]
    },
    {
     "name": "stderr",
     "output_type": "stream",
     "text": [
      "Rate limit reached. Sleeping for: 565\n"
     ]
    },
    {
     "name": "stdout",
     "output_type": "stream",
     "text": [
      "\t user Sprite -- 3200 tweets downloaded\n",
      "\t\t we have 91157 tweets now...\n",
      "\t user McDonalds -- 3200 tweets downloaded\n",
      "\t\t we have 94357 tweets now...\n",
      "\t user kfc -- 3200 tweets downloaded\n",
      "\t\t we have 97557 tweets now...\n",
      "\t user BurgerKing -- 2600 tweets downloaded\n",
      "\t\t we have 100157 tweets now...\n",
      "\t user dominos -- 3200 tweets downloaded\n",
      "\t\t we have 103357 tweets now...\n",
      "\t user SUBWAY -- 3200 tweets downloaded\n",
      "\t\t we have 106557 tweets now...\n"
     ]
    },
    {
     "name": "stderr",
     "output_type": "stream",
     "text": [
      "Rate limit reached. Sleeping for: 566\n"
     ]
    },
    {
     "name": "stdout",
     "output_type": "stream",
     "text": [
      "\t user tacobell -- 3200 tweets downloaded\n",
      "\t\t we have 109757 tweets now...\n",
      "\t user Wendys -- 3200 tweets downloaded\n",
      "\t\t we have 112957 tweets now...\n",
      "\t user pizzahut -- 3200 tweets downloaded\n",
      "\t\t we have 116157 tweets now...\n",
      "\t user Starbucks -- 3200 tweets downloaded\n",
      "\t\t we have 119357 tweets now...\n",
      "\t user jackbox -- 3200 tweets downloaded\n",
      "\t\t we have 122557 tweets now...\n",
      "\t user PapaJohns -- 3200 tweets downloaded\n",
      "\t\t we have 125757 tweets now...\n"
     ]
    },
    {
     "name": "stderr",
     "output_type": "stream",
     "text": [
      "Rate limit reached. Sleeping for: 555\n"
     ]
    },
    {
     "name": "stdout",
     "output_type": "stream",
     "text": [
      "\t user ChickfilA -- 3200 tweets downloaded\n",
      "\t\t we have 128957 tweets now...\n",
      "\t user dunkindonuts -- 3200 tweets downloaded\n",
      "\t\t we have 132157 tweets now...\n",
      "\t user Arbys -- 3200 tweets downloaded\n",
      "\t\t we have 135357 tweets now...\n",
      "\t user ChipotleTweets -- 3200 tweets downloaded\n",
      "\t\t we have 138557 tweets now...\n",
      "\t user DairyQueen -- 3200 tweets downloaded\n",
      "\t\t we have 141757 tweets now...\n"
     ]
    },
    {
     "name": "stderr",
     "output_type": "stream",
     "text": [
      "Rate limit reached. Sleeping for: 566\n"
     ]
    },
    {
     "name": "stdout",
     "output_type": "stream",
     "text": [
      "\t user Whataburger -- 3200 tweets downloaded\n",
      "\t\t we have 144957 tweets now...\n",
      "\t user jimmyjohns -- 3200 tweets downloaded\n",
      "\t\t we have 148157 tweets now...\n",
      "\t user SteaknShake -- 3200 tweets downloaded\n",
      "\t\t we have 151357 tweets now...\n",
      "\t user olivegarden -- 3200 tweets downloaded\n",
      "\t\t we have 154557 tweets now...\n",
      "\t user BWWings -- 3200 tweets downloaded\n",
      "\t\t we have 157757 tweets now...\n",
      "\t user Applebees -- 3200 tweets downloaded\n",
      "\t\t we have 160957 tweets now...\n"
     ]
    },
    {
     "name": "stderr",
     "output_type": "stream",
     "text": [
      "Rate limit reached. Sleeping for: 563\n"
     ]
    },
    {
     "name": "stdout",
     "output_type": "stream",
     "text": [
      "\t user Chilis -- 3200 tweets downloaded\n",
      "\t\t we have 164157 tweets now...\n",
      "\t user Walmart -- 1680 tweets downloaded\n",
      "\t\t we have 165837 tweets now...\n",
      "\t user WholeFoods -- 3200 tweets downloaded\n",
      "\t\t we have 169037 tweets now...\n",
      "saving tweets to file...\n"
     ]
    }
   ],
   "source": [
    "downloadTweets(api, companies, file_name='all_tweets_moreUsers_1e5.pkl', min_number_of_followers=1e5)"
   ]
  }
 ],
 "metadata": {
  "interpreter": {
   "hash": "916dbcbb3f70747c44a77c7bcd40155683ae19c65e1c03b4aa3499c5328201f1"
  },
  "kernelspec": {
   "display_name": "Python 3.8.10 64-bit",
   "language": "python",
   "name": "python3"
  },
  "language_info": {
   "codemirror_mode": {
    "name": "ipython",
    "version": 3
   },
   "file_extension": ".py",
   "mimetype": "text/x-python",
   "name": "python",
   "nbconvert_exporter": "python",
   "pygments_lexer": "ipython3",
   "version": "3.8.10"
  },
  "orig_nbformat": 4
 },
 "nbformat": 4,
 "nbformat_minor": 2
}
