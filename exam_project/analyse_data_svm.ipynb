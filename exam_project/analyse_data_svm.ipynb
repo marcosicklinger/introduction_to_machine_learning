{
 "cells": [
  {
   "cell_type": "code",
   "execution_count": 2,
   "metadata": {},
   "outputs": [],
   "source": [
    "import pandas as pd\n",
    "from preprocess import getPopularityIndex\n",
    "import matplotlib.pyplot as plt\n",
    "import numpy as np\n",
    "from sklearn.model_selection import train_test_split\n",
    "from sklearn.svm import SVC\n",
    "from sklearn.pipeline import make_pipeline\n",
    "from sklearn.preprocessing import StandardScaler\n",
    "from sklearn.compose import ColumnTransformer\n",
    "from preprocess import cleanData, getPopularityIndex, encodePandas\n",
    "from sklearn.preprocessing import OneHotEncoder, StandardScaler\n"
   ]
  },
  {
   "cell_type": "code",
   "execution_count": 9,
   "metadata": {},
   "outputs": [
    {
     "name": "stdout",
     "output_type": "stream",
     "text": [
      "X dataframe has 20467 rows...\n",
      "...with numerical columns:\n",
      "Index(['followers_count', 'friends_count', 'listed_count', 'statuses_count',\n",
      "       'mentions_tot_followers', 'mentions_tot_friends',\n",
      "       'mentions_tot_statuses', 'n_sentences', 'n_words', 'n_adjectives',\n",
      "       'n_adverbs', 'n_nouns', 'n_pronouns', 'n_verbs', 'n_long_words',\n",
      "       'n_hashtags', 'n_user_mentions'],\n",
      "      dtype='object')\n",
      "and categorical columns:\n",
      "['has_gif', 'has_photo', 'has_questions', 'has_symbols', 'has_urls', 'day', 'is_reply', 'has_video', 'time']\n",
      "\n",
      "\n",
      "Trainig set contains 16373 samples\n",
      "Test set contains 4094 samples\n"
     ]
    }
   ],
   "source": [
    "X = pd.read_pickle('TwitterData_1e5_90rm.pkl')\n",
    "y = getPopularityIndex(X, 4)\n",
    "X = cleanData(X)\n",
    "print('X dataframe has {} rows...'.format(len(X)))\n",
    "numerical_columns = X._get_numeric_data().columns\n",
    "categorical_columns = list(set(X.columns) - set(numerical_columns))\n",
    "print('...with numerical columns:')\n",
    "print(numerical_columns)\n",
    "print('and categorical columns:')\n",
    "print(categorical_columns)\n",
    "\n",
    "print('\\n')\n",
    "\n",
    "X_train, X_test, y_train, y_test = train_test_split(X, y, test_size=0.2, random_state=42)\n",
    "print('Trainig set contains {} samples'.format(len(X_train)))\n",
    "print('Test set contains {} samples'.format(len(X_test)))"
   ]
  },
  {
   "cell_type": "code",
   "execution_count": 11,
   "metadata": {},
   "outputs": [],
   "source": [
    "categorical_preprocessor = OneHotEncoder(handle_unknown='ignore', drop='first')\n",
    "numerical_preprocessor = StandardScaler()\n",
    "\n",
    "preprocessor = ColumnTransformer([\n",
    "    ('one-hot-encoder', categorical_preprocessor, categorical_columns),\n",
    "    ('standard_scaler', numerical_preprocessor, numerical_columns)\n",
    "    ])"
   ]
  },
  {
   "cell_type": "code",
   "execution_count": 15,
   "metadata": {},
   "outputs": [],
   "source": [
    "model = make_pipeline(preprocessor, SVC(gamma='auto'))"
   ]
  },
  {
   "cell_type": "code",
   "execution_count": 16,
   "metadata": {},
   "outputs": [
    {
     "name": "stdout",
     "output_type": "stream",
     "text": [
      "0.5889574299151041\n"
     ]
    }
   ],
   "source": [
    "model.fit(X_train, y_train)\n",
    "print(model.score(X_train, y_train))"
   ]
  }
 ],
 "metadata": {
  "interpreter": {
   "hash": "916dbcbb3f70747c44a77c7bcd40155683ae19c65e1c03b4aa3499c5328201f1"
  },
  "kernelspec": {
   "display_name": "Python 3.8.10 64-bit",
   "language": "python",
   "name": "python3"
  },
  "language_info": {
   "codemirror_mode": {
    "name": "ipython",
    "version": 3
   },
   "file_extension": ".py",
   "mimetype": "text/x-python",
   "name": "python",
   "nbconvert_exporter": "python",
   "pygments_lexer": "ipython3",
   "version": "3.8.10"
  },
  "orig_nbformat": 4
 },
 "nbformat": 4,
 "nbformat_minor": 2
}
