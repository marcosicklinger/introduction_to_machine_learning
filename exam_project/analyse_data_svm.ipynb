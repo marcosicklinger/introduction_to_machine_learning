{
 "cells": [
  {
   "cell_type": "code",
   "execution_count": 1,
   "metadata": {},
   "outputs": [],
   "source": [
    "import pandas as pd\n",
    "from preprocess import getPopularityIndex\n",
    "import matplotlib.pyplot as plt\n",
    "import numpy as np\n",
    "from sklearn.model_selection import train_test_split\n",
    "from sklearn.svm import SVC\n",
    "from sklearn.pipeline import make_pipeline\n",
    "from sklearn.preprocessing import StandardScaler\n",
    "from sklearn.compose import ColumnTransformer\n",
    "from preprocess import cleanData, getPopularityIndex, encodePandas\n",
    "from sklearn.preprocessing import OneHotEncoder, StandardScaler\n",
    "from preprocess import extractTweetFeatures , mostFrequentWords, getPopularityIndex, encodePandas, dropZeros, encodeSklearn, computePopularityIndex, computePopularityIndex_by_flw\n"
   ]
  },
  {
   "cell_type": "code",
   "execution_count": 2,
   "metadata": {},
   "outputs": [],
   "source": [
    "X = pd.read_pickle('TwitterData_1e5_w0.pkl')"
   ]
  },
  {
   "cell_type": "code",
   "execution_count": 13,
   "metadata": {},
   "outputs": [
    {
     "name": "stderr",
     "output_type": "stream",
     "text": [
      "/tmp/ipykernel_35565/2146874189.py:2: SettingWithCopyWarning: \n",
      "A value is trying to be set on a copy of a slice from a DataFrame\n",
      "\n",
      "See the caveats in the documentation: https://pandas.pydata.org/pandas-docs/stable/user_guide/indexing.html#returning-a-view-versus-a-copy\n",
      "  X['popularity'][i] -= X['favorite_count'][i]\n"
     ]
    }
   ],
   "source": [
    "for i in range(len(X)):\n",
    "    X['popularity'][i] -= X['favorite_count'][i]"
   ]
  },
  {
   "cell_type": "code",
   "execution_count": 3,
   "metadata": {},
   "outputs": [
    {
     "name": "stdout",
     "output_type": "stream",
     "text": [
      "X dataframe has 31067 rows...\n",
      "...with numerical columns:\n",
      "Index(['followers_count', 'friends_count', 'listed_count', 'statuses_count',\n",
      "       'mentions_tot_followers', 'mentions_tot_friends',\n",
      "       'mentions_tot_statuses', 'n_sentences', 'n_words', 'n_adjectives',\n",
      "       'n_adverbs', 'n_nouns', 'n_pronouns', 'n_verbs', 'n_long_words',\n",
      "       'n_hashtags', 'n_user_mentions'],\n",
      "      dtype='object')\n",
      "and categorical columns:\n",
      "['time', 'is_reply', 'day', 'has_gif', 'has_urls', 'has_video', 'has_photo', 'has_symbols', 'has_questions']\n",
      "\n",
      "\n"
     ]
    }
   ],
   "source": [
    "# X.drop(['mentions_tot_followers', 'mentions_tot_friends', 'mentions_tot_statuses'], axis=1, inplace=True)\n",
    "\n",
    "y = computePopularityIndex(X, 5)\n",
    "X = cleanData(X)\n",
    "print('X dataframe has {} rows...'.format(len(X)))\n",
    "numerical_columns = X._get_numeric_data().columns\n",
    "categorical_columns = list(set(X.columns) - set(numerical_columns))\n",
    "print('...with numerical columns:')\n",
    "print(numerical_columns)\n",
    "print('and categorical columns:')\n",
    "print(categorical_columns)\n",
    "\n",
    "print('\\n')"
   ]
  },
  {
   "cell_type": "code",
   "execution_count": 4,
   "metadata": {},
   "outputs": [],
   "source": [
    "categorical_preprocessor = OneHotEncoder(handle_unknown='ignore', drop='first')\n",
    "numerical_preprocessor = StandardScaler()\n",
    "\n",
    "preprocessor = ColumnTransformer([\n",
    "    ('one-hot-encoder', categorical_preprocessor, categorical_columns),\n",
    "    ('standard_scaler', numerical_preprocessor, numerical_columns)\n",
    "    ])"
   ]
  },
  {
   "cell_type": "code",
   "execution_count": 5,
   "metadata": {},
   "outputs": [],
   "source": [
    "from numpy import mean\n",
    "from numpy import std\n",
    "from sklearn.datasets import make_classification\n",
    "from sklearn.model_selection import cross_val_score, cross_validate\n",
    "from sklearn.model_selection import KFold\n",
    "from sklearn.model_selection import GridSearchCV, RandomizedSearchCV\n",
    "from sklearn.feature_selection import SelectFromModel\n",
    "from sklearn.ensemble import RandomForestClassifier\n",
    "\n",
    "feature_selection = SelectFromModel(RandomForestClassifier(), threshold = 0.01)"
   ]
  },
  {
   "cell_type": "code",
   "execution_count": 6,
   "metadata": {},
   "outputs": [],
   "source": [
    "X1, X2, y1, y2 = train_test_split(X, y, test_size=0.33, random_state=42)"
   ]
  },
  {
   "cell_type": "code",
   "execution_count": 7,
   "metadata": {},
   "outputs": [
    {
     "data": {
      "text/plain": [
       "(array([ 6097.,  2148.,  6979., 10830.,  5013.]),\n",
       " array([1. , 1.8, 2.6, 3.4, 4.2, 5. ]),\n",
       " <BarContainer object of 5 artists>)"
      ]
     },
     "execution_count": 7,
     "metadata": {},
     "output_type": "execute_result"
    },
    {
     "data": {
      "image/png": "[encoded data removed]",
      "text/plain": [
       "<Figure size 432x288 with 1 Axes>"
      ]
     },
     "metadata": {
      "needs_background": "light"
     },
     "output_type": "display_data"
    }
   ],
   "source": [
    "plt.hist(y, bins=5)"
   ]
  },
  {
   "cell_type": "code",
   "execution_count": 22,
   "metadata": {},
   "outputs": [],
   "source": [
    "cv_inner= KFold(n_splits=2, shuffle=True, random_state=1)\n",
    "cv_outer = KFold(n_splits=5, shuffle=True, random_state=1)\n",
    "\n",
    "classifier = SVC()\n",
    "\n",
    "search = RandomizedSearchCV(estimator = classifier, param_distributions = hyppar_space, n_iter = 50, cv = 3, verbose=2, random_state=42, n_jobs = -1)\n",
    "\n",
    "model = make_pipeline(preprocessor, search)"
   ]
  },
  {
   "cell_type": "code",
   "execution_count": null,
   "metadata": {},
   "outputs": [],
   "source": [
    "model.fit(X,y)"
   ]
  },
  {
   "cell_type": "code",
   "execution_count": 24,
   "metadata": {},
   "outputs": [
    {
     "data": {
      "text/plain": [
       "{'tol': 0.5, 'kernel': 'poly', 'degree': 3, 'C': 1}"
      ]
     },
     "execution_count": 24,
     "metadata": {},
     "output_type": "execute_result"
    }
   ],
   "source": [
    "model[1].best_params_"
   ]
  },
  {
   "cell_type": "code",
   "execution_count": 18,
   "metadata": {},
   "outputs": [
    {
     "data": {
      "text/plain": [
       "Pipeline(steps=[('columntransformer',\n",
       "                 ColumnTransformer(transformers=[('one-hot-encoder',\n",
       "                                                  OneHotEncoder(drop='first',\n",
       "                                                                handle_unknown='ignore'),\n",
       "                                                  ['time', 'is_reply', 'day',\n",
       "                                                   'has_gif', 'has_urls',\n",
       "                                                   'has_video', 'has_photo',\n",
       "                                                   'has_symbols',\n",
       "                                                   'has_questions']),\n",
       "                                                 ('standard_scaler',\n",
       "                                                  StandardScaler(),\n",
       "                                                  Index(['followers_count', 'friends_count', 'listed_count', 'statuses_count',\n",
       "       'mentions_tot_followers', 'mentions_tot_friends',\n",
       "       'mentions_tot_statuses', 'n_sentences', 'n_words', 'n_adjectives',\n",
       "       'n_adverbs', 'n_nouns', 'n_pronouns', 'n_verbs', 'n_long_words',\n",
       "       'n_hashtags', 'n_user_mentions'],\n",
       "      dtype='object'))])),\n",
       "                ('svc', SVC(C=50, kernel='poly', tol=0.05))])"
      ]
     },
     "execution_count": 18,
     "metadata": {},
     "output_type": "execute_result"
    }
   ],
   "source": [
    "svc = SVC(kernel='poly', degree=3, tol=0.05, C=50)\n",
    "svc = make_pipeline(preprocessor, svc)\n",
    "svc.fit(X1,y1)"
   ]
  },
  {
   "cell_type": "code",
   "execution_count": 19,
   "metadata": {},
   "outputs": [
    {
     "data": {
      "text/plain": [
       "0.5688091290354043"
      ]
     },
     "execution_count": 19,
     "metadata": {},
     "output_type": "execute_result"
    }
   ],
   "source": [
    "svc.score(X2,y2)"
   ]
  },
  {
   "cell_type": "code",
   "execution_count": 16,
   "metadata": {},
   "outputs": [],
   "source": [
    "hyppar_space = dict()\n",
    "hyppar_space['svc__C'] = [0.1, 1, 10, 50] #, 20, 30, 40, 50] #[1, 5, 10, 50, 100, 500, 1000]\n",
    "# hyppar_space['svc__gamma'] = [0.1, 0.01, 0.001] #['auto', 1, 0.5, 0.1, 0.05, 0.01, 0.005, 0.001]\n",
    "hyppar_space['svc__degree'] = [2, 3, 4] #[1, 2, 3, 4]\n",
    "hyppar_space['svc__tol'] = [0.04,0.06,0.1,0.5] #, 0.06, 0.1, 0.14]\n",
    "hyppar_space['svc__kernel'] = ['poly'] #['rbf', 'poly', 'linear', 'sigmoid']"
   ]
  },
  {
   "cell_type": "code",
   "execution_count": 17,
   "metadata": {},
   "outputs": [],
   "source": [
    "def nestedCV(X, y, classifier, space, preprocessor, k_inner=3, k_outer=10, n_jobs_gridsearch=1, scoring='accuracy'):\n",
    "\n",
    "    cv_inner= KFold(n_splits=k_inner, shuffle=True, random_state=1)\n",
    "    cv_outer = KFold(n_splits=k_outer, shuffle=True, random_state=1)\n",
    "\n",
    "    feature_selection = SelectFromModel(RandomForestClassifier(), threshold = 0.01)\n",
    "    model_inner = make_pipeline(feature_selection, classifier)\n",
    "\n",
    "    search = GridSearchCV(model_inner, space, scoring=scoring, n_jobs=n_jobs_gridsearch, cv=cv_inner, refit=True)\n",
    "    model = make_pipeline(preprocessor, search)\n",
    "\n",
    "    scores = cross_validate(model, X, y, scoring=scoring, cv=cv_outer, n_jobs=-1, return_estimator=True, error_score='raise')\n",
    "\n",
    "    return scores"
   ]
  },
  {
   "cell_type": "code",
   "execution_count": 18,
   "metadata": {},
   "outputs": [],
   "source": [
    "scores = nestedCV(X, y, SVC(), hyppar_space, preprocessor, k_inner=3, k_outer=10)\n",
    "a_file = open('nestedcv_best_svc_crrcted', 'wb')\n",
    "import pickle\n",
    "pickle.dump(scores, a_file)\n",
    "a_file.close()"
   ]
  },
  {
   "cell_type": "code",
   "execution_count": 19,
   "metadata": {},
   "outputs": [
    {
     "name": "stdout",
     "output_type": "stream",
     "text": [
      "{'svc__C': 50, 'svc__degree': 2, 'svc__kernel': 'poly', 'svc__tol': 0.06}\n",
      "{'svc__C': 50, 'svc__degree': 3, 'svc__kernel': 'poly', 'svc__tol': 0.04}\n",
      "{'svc__C': 50, 'svc__degree': 2, 'svc__kernel': 'poly', 'svc__tol': 0.04}\n",
      "{'svc__C': 50, 'svc__degree': 3, 'svc__kernel': 'poly', 'svc__tol': 0.3}\n",
      "{'svc__C': 50, 'svc__degree': 3, 'svc__kernel': 'poly', 'svc__tol': 0.04}\n",
      "{'svc__C': 50, 'svc__degree': 2, 'svc__kernel': 'poly', 'svc__tol': 0.1}\n",
      "{'svc__C': 50, 'svc__degree': 3, 'svc__kernel': 'poly', 'svc__tol': 0.06}\n",
      "{'svc__C': 50, 'svc__degree': 3, 'svc__kernel': 'poly', 'svc__tol': 0.06}\n",
      "{'svc__C': 50, 'svc__degree': 2, 'svc__kernel': 'poly', 'svc__tol': 0.5}\n",
      "{'svc__C': 50, 'svc__degree': 2, 'svc__kernel': 'poly', 'svc__tol': 0.5}\n"
     ]
    }
   ],
   "source": [
    "for estim in scores['estimator']:\n",
    "    print(estim[1].best_params_)"
   ]
  },
  {
   "cell_type": "code",
   "execution_count": 20,
   "metadata": {},
   "outputs": [
    {
     "data": {
      "text/plain": [
       "array([0.46611668, 0.46493813, 0.46199175, 0.48025928, 0.48791986,\n",
       "       0.4702416 , 0.45550972, 0.46258103, 0.47759434, 0.46875   ])"
      ]
     },
     "execution_count": 20,
     "metadata": {},
     "output_type": "execute_result"
    }
   ],
   "source": [
    "scores['test_score']"
   ]
  },
  {
   "cell_type": "code",
   "execution_count": 24,
   "metadata": {},
   "outputs": [],
   "source": [
    "metrics = pd.read_pickle('nestedcv_best_svc_crrcted')"
   ]
  },
  {
   "cell_type": "code",
   "execution_count": 25,
   "metadata": {},
   "outputs": [
    {
     "name": "stdout",
     "output_type": "stream",
     "text": [
      "0.4695902383229006 0.009240314634799626\n"
     ]
    }
   ],
   "source": [
    "print(mean(metrics['test_score']), std(metrics['test_score']))"
   ]
  }
 ],
 "metadata": {
  "interpreter": {
   "hash": "916dbcbb3f70747c44a77c7bcd40155683ae19c65e1c03b4aa3499c5328201f1"
  },
  "kernelspec": {
   "display_name": "Python 3.8.10 64-bit",
   "language": "python",
   "name": "python3"
  },
  "language_info": {
   "codemirror_mode": {
    "name": "ipython",
    "version": 3
   },
   "file_extension": ".py",
   "mimetype": "text/x-python",
   "name": "python",
   "nbconvert_exporter": "python",
   "pygments_lexer": "ipython3",
   "version": "3.8.10"
  },
  "orig_nbformat": 4
 },
 "nbformat": 4,
 "nbformat_minor": 2
}
